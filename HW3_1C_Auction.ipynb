{
  "nbformat": 4,
  "nbformat_minor": 0,
  "metadata": {
    "colab": {
      "name": "HW3_1C_Auction",
      "provenance": [],
      "collapsed_sections": [],
      "authorship_tag": "ABX9TyNFREIWBaonlKohHiZbeeDe"
    },
    "kernelspec": {
      "name": "python3",
      "display_name": "Python 3"
    },
    "language_info": {
      "name": "python"
    }
  },
  "cells": [
    {
      "cell_type": "code",
      "metadata": {
        "id": "9reUnE1EDnX9"
      },
      "source": [
        "import numpy as np\n",
        "import pandas as pd\n",
        "from sklearn import datasets\n",
        "import matplotlib.pyplot as plt\n",
        "import random\n",
        "import time\n",
        "import numpy as np"
      ],
      "execution_count": null,
      "outputs": []
    },
    {
      "cell_type": "markdown",
      "metadata": {
        "id": "oPV45MD1JVWg"
      },
      "source": [
        "###Auction Algorithm"
      ]
    },
    {
      "cell_type": "code",
      "metadata": {
        "id": "xClslVnlHBVg"
      },
      "source": [
        "import random\n",
        "import time\n",
        "\n",
        "def AuctionAlgo(val_mat,agents,prices):\n",
        "  N = len(val_mat)\n",
        "  M = len(val_mat[0])\n",
        "  ep = 1/(1+ N)\n",
        "\n",
        "  agents,prices = initialize(agents,prices,N)\n",
        "  unassigned = []\n",
        "  while (-1 in agents.values()):    \n",
        "    max = 0\n",
        "    temp = 0\n",
        "    unassigned_agent = checkAgents(agents)\n",
        "    agents_row = val_mat[unassigned_agent]\n",
        "\n",
        "    for j in range(0, N):\n",
        "      value = agents_row[j] - prices[j]\n",
        "      if value > max:\n",
        "          max = value\n",
        "          obj = j\n",
        "\n",
        "    max2 = 0\n",
        "    for l in range(0, N):\n",
        "      value = agents_row[l] - prices[l]\n",
        "      if value > max2 and value < max:\n",
        "          max2 = value\n",
        "\n",
        "    bid = max - max2 + ep\n",
        "    agents[unassigned_agent] = obj\n",
        "\n",
        "    for key, value in agents.items():\n",
        "        if value is obj and key is not unassigned_agent:\n",
        "            agents[key] = -1\n",
        "            unassigned.append(key)\n",
        "    prices[obj] =prices[obj]+ bid\n",
        "  return agents\n",
        "\n",
        "\n",
        "def checkAgents(agents):\n",
        "  for key, value in agents.items():\n",
        "      if value is -1:\n",
        "        return key\n",
        "\n",
        "def initialize(agents,prices,N):\n",
        "    for i in range(0, N):\n",
        "      agents[i] = -1\n",
        "      prices[i] = 0\n",
        "    return agents,prices\n",
        "\n",
        "def calculateAssignmentValue(val_mat, agents):\n",
        "    total = 0\n",
        "    for key, value in agents.items():\n",
        "        total =total+ val_mat[key][value]\n",
        "    return total   "
      ],
      "execution_count": null,
      "outputs": []
    },
    {
      "cell_type": "markdown",
      "metadata": {
        "id": "W-Jv-z0C1-eo"
      },
      "source": [
        "###Random Assignment Generation:"
      ]
    },
    {
      "cell_type": "code",
      "metadata": {
        "id": "Dd-qYNhu1-FW"
      },
      "source": [
        "def dataGeneration(n,M):\n",
        "    return np.random.randint(0, M, size=(n, n))"
      ],
      "execution_count": null,
      "outputs": []
    },
    {
      "cell_type": "code",
      "metadata": {
        "id": "bJhTyVdH25uV"
      },
      "source": [
        "A =dataGeneration(10,9)"
      ],
      "execution_count": null,
      "outputs": []
    },
    {
      "cell_type": "code",
      "metadata": {
        "colab": {
          "base_uri": "https://localhost:8080/"
        },
        "id": "7am_IYTH3pkE",
        "outputId": "8ed0ab35-2b5a-43b5-f5f8-382b16563378"
      },
      "source": [
        "### testing for auction algorithm\n",
        "agents={}\n",
        "prices={}\n",
        "al = AuctionAlgo(A,agents,prices)\n",
        "print(\"The actual assignment for auction algorithm=\")\n",
        "print(\"(Agent:Object)\")\n",
        "print(al)"
      ],
      "execution_count": null,
      "outputs": [
        {
          "output_type": "stream",
          "text": [
            "The actual assignment for auction algorithm=\n",
            "(Agent:Object)\n",
            "{0: 0, 1: 8, 2: 7, 3: 3, 4: 9, 5: 1, 6: 2, 7: 5, 8: 4, 9: 6}\n"
          ],
          "name": "stdout"
        }
      ]
    },
    {
      "cell_type": "markdown",
      "metadata": {
        "id": "TB8RTHt_4IaG"
      },
      "source": [
        "#Computing time for M from 10 to 100000000"
      ]
    },
    {
      "cell_type": "code",
      "metadata": {
        "id": "oIeWMAL4GVXF"
      },
      "source": [
        "def calculate_time(M,iteration):\n",
        "  i=0\n",
        "  t=0\n",
        "  while i<iteration:\n",
        "    mat = np.array(dataGeneration(256,M))\n",
        "    start = time.time()\n",
        "    agents={}\n",
        "    prices={}\n",
        "    al = AuctionAlgo(mat,agents,prices)\n",
        "    end = time.time() - start\n",
        "    t=t+end\n",
        "    i=i+1\n",
        "    if (i%10==0):\n",
        "      print(i)\n",
        "  avg_time = t/iteration    \n",
        "  return avg_time"
      ],
      "execution_count": null,
      "outputs": []
    },
    {
      "cell_type": "code",
      "metadata": {
        "colab": {
          "base_uri": "https://localhost:8080/"
        },
        "id": "lTiuQm7NNheD",
        "outputId": "b433f4d1-a806-4f94-9bbc-27dbb1f2f578"
      },
      "source": [
        "avg = calculate_time(10,100)\n",
        "print(\"Avergae time for M=10\",avg)"
      ],
      "execution_count": null,
      "outputs": [
        {
          "output_type": "stream",
          "text": [
            "10\n",
            "20\n",
            "30\n",
            "40\n",
            "50\n",
            "60\n",
            "70\n",
            "80\n",
            "90\n",
            "100\n",
            "Avergae time for M=10 0.30796936511993406\n"
          ],
          "name": "stdout"
        }
      ]
    },
    {
      "cell_type": "code",
      "metadata": {
        "colab": {
          "base_uri": "https://localhost:8080/"
        },
        "id": "O8j0uTkKOAgi",
        "outputId": "ed7789c7-ba9b-4783-e001-1aa2413cc3e5"
      },
      "source": [
        "avg = calculate_time(100,100)\n",
        "print(\"Avergae time for M=100\",avg)"
      ],
      "execution_count": null,
      "outputs": [
        {
          "output_type": "stream",
          "text": [
            "Avergae time for M=10 0.2912603497505188\n"
          ],
          "name": "stdout"
        }
      ]
    },
    {
      "cell_type": "code",
      "metadata": {
        "id": "LK8gYl5bOzY5"
      },
      "source": [
        "# Commenting out as they take more time to compute \n",
        "\n",
        "# avg = calculate_time(1000,100)\n",
        "# print(\"Avergae time for M=1000\",avg)\n",
        "# avg = calculate_time(10000,100)\n",
        "# print(\"Avergae time for M=10000\",avg)\n",
        "# avg = calculate_time(100000,100)\n",
        "# print(\"Avergae time for M=100000\",avg)\n",
        "# avg = calculate_time(1000000,100)\n",
        "# print(\"Avergae time for M=1000000\",avg)\n",
        "# avg = calculate_time(10000000,100)\n",
        "# print(\"Avergae time for M=10000000\",avg)"
      ],
      "execution_count": null,
      "outputs": []
    },
    {
      "cell_type": "code",
      "metadata": {
        "colab": {
          "base_uri": "https://localhost:8080/",
          "height": 323
        },
        "id": "milUYl7QPAT0",
        "outputId": "6fc9127a-9014-4798-c8d7-0fe164e58e6e"
      },
      "source": [
        ""
      ],
      "execution_count": null,
      "outputs": [
        {
          "output_type": "error",
          "ename": "KeyboardInterrupt",
          "evalue": "ignored",
          "traceback": [
            "\u001b[0;31m---------------------------------------------------------------------------\u001b[0m",
            "\u001b[0;31mKeyboardInterrupt\u001b[0m                         Traceback (most recent call last)",
            "\u001b[0;32m<ipython-input-16-7242ca6cf26c>\u001b[0m in \u001b[0;36m<module>\u001b[0;34m()\u001b[0m\n\u001b[0;32m----> 1\u001b[0;31m \u001b[0mavg\u001b[0m \u001b[0;34m=\u001b[0m \u001b[0mcalculate_time\u001b[0m\u001b[0;34m(\u001b[0m\u001b[0;36m10000\u001b[0m\u001b[0;34m,\u001b[0m\u001b[0;36m100\u001b[0m\u001b[0;34m)\u001b[0m\u001b[0;34m\u001b[0m\u001b[0;34m\u001b[0m\u001b[0m\n\u001b[0m\u001b[1;32m      2\u001b[0m \u001b[0mprint\u001b[0m\u001b[0;34m(\u001b[0m\u001b[0;34m\"Avergae time for M=100\"\u001b[0m\u001b[0;34m,\u001b[0m\u001b[0mavg\u001b[0m\u001b[0;34m)\u001b[0m\u001b[0;34m\u001b[0m\u001b[0;34m\u001b[0m\u001b[0m\n",
            "\u001b[0;32m<ipython-input-12-23780e103b8b>\u001b[0m in \u001b[0;36mcalculate_time\u001b[0;34m(M, iteration)\u001b[0m\n\u001b[1;32m      7\u001b[0m     \u001b[0magents\u001b[0m\u001b[0;34m=\u001b[0m\u001b[0;34m{\u001b[0m\u001b[0;34m}\u001b[0m\u001b[0;34m\u001b[0m\u001b[0;34m\u001b[0m\u001b[0m\n\u001b[1;32m      8\u001b[0m     \u001b[0mprices\u001b[0m\u001b[0;34m=\u001b[0m\u001b[0;34m{\u001b[0m\u001b[0;34m}\u001b[0m\u001b[0;34m\u001b[0m\u001b[0;34m\u001b[0m\u001b[0m\n\u001b[0;32m----> 9\u001b[0;31m     \u001b[0mal\u001b[0m \u001b[0;34m=\u001b[0m \u001b[0mAuctionAlgo\u001b[0m\u001b[0;34m(\u001b[0m\u001b[0mmat\u001b[0m\u001b[0;34m,\u001b[0m\u001b[0magents\u001b[0m\u001b[0;34m,\u001b[0m\u001b[0mprices\u001b[0m\u001b[0;34m)\u001b[0m\u001b[0;34m\u001b[0m\u001b[0;34m\u001b[0m\u001b[0m\n\u001b[0m\u001b[1;32m     10\u001b[0m     \u001b[0mend\u001b[0m \u001b[0;34m=\u001b[0m \u001b[0mtime\u001b[0m\u001b[0;34m.\u001b[0m\u001b[0mtime\u001b[0m\u001b[0;34m(\u001b[0m\u001b[0;34m)\u001b[0m \u001b[0;34m-\u001b[0m \u001b[0mstart\u001b[0m\u001b[0;34m\u001b[0m\u001b[0;34m\u001b[0m\u001b[0m\n\u001b[1;32m     11\u001b[0m     \u001b[0mt\u001b[0m\u001b[0;34m=\u001b[0m\u001b[0mt\u001b[0m\u001b[0;34m+\u001b[0m\u001b[0mend\u001b[0m\u001b[0;34m\u001b[0m\u001b[0;34m\u001b[0m\u001b[0m\n",
            "\u001b[0;32m<ipython-input-4-b10fce5fd08d>\u001b[0m in \u001b[0;36mAuctionAlgo\u001b[0;34m(val_mat, agents, prices)\u001b[0m\n\u001b[1;32m     23\u001b[0m     \u001b[0mmax2\u001b[0m \u001b[0;34m=\u001b[0m \u001b[0;36m0\u001b[0m\u001b[0;34m\u001b[0m\u001b[0;34m\u001b[0m\u001b[0m\n\u001b[1;32m     24\u001b[0m     \u001b[0;32mfor\u001b[0m \u001b[0ml\u001b[0m \u001b[0;32min\u001b[0m \u001b[0mrange\u001b[0m\u001b[0;34m(\u001b[0m\u001b[0;36m0\u001b[0m\u001b[0;34m,\u001b[0m \u001b[0mN\u001b[0m\u001b[0;34m)\u001b[0m\u001b[0;34m:\u001b[0m\u001b[0;34m\u001b[0m\u001b[0;34m\u001b[0m\u001b[0m\n\u001b[0;32m---> 25\u001b[0;31m       \u001b[0mvalue\u001b[0m \u001b[0;34m=\u001b[0m \u001b[0magents_row\u001b[0m\u001b[0;34m[\u001b[0m\u001b[0ml\u001b[0m\u001b[0;34m]\u001b[0m \u001b[0;34m-\u001b[0m \u001b[0mprices\u001b[0m\u001b[0;34m[\u001b[0m\u001b[0ml\u001b[0m\u001b[0;34m]\u001b[0m\u001b[0;34m\u001b[0m\u001b[0;34m\u001b[0m\u001b[0m\n\u001b[0m\u001b[1;32m     26\u001b[0m       \u001b[0;32mif\u001b[0m \u001b[0mvalue\u001b[0m \u001b[0;34m>\u001b[0m \u001b[0mmax2\u001b[0m \u001b[0;32mand\u001b[0m \u001b[0mvalue\u001b[0m \u001b[0;34m<\u001b[0m \u001b[0mmax\u001b[0m\u001b[0;34m:\u001b[0m\u001b[0;34m\u001b[0m\u001b[0;34m\u001b[0m\u001b[0m\n\u001b[1;32m     27\u001b[0m           \u001b[0mmax2\u001b[0m \u001b[0;34m=\u001b[0m \u001b[0mvalue\u001b[0m\u001b[0;34m\u001b[0m\u001b[0;34m\u001b[0m\u001b[0m\n",
            "\u001b[0;31mKeyboardInterrupt\u001b[0m: "
          ]
        }
      ]
    },
    {
      "cell_type": "code",
      "metadata": {
        "colab": {
          "base_uri": "https://localhost:8080/"
        },
        "id": "sdbMUkqlPDCA",
        "outputId": "a16c0ef0-6db3-4d32-b448-89aeefa0eea5"
      },
      "source": [
        "# -*- coding: utf-8 -*-\n",
        "\"\"\"HW3_1C_Auction\n",
        "\n",
        "Automatically generated by Colaboratory.\n",
        "\n",
        "Original file is located at\n",
        "    https://colab.research.google.com/drive/1LLrP6SzGXBvw-mTPMotsaKF2HT7KRt-y\n",
        "\"\"\"\n",
        "\n",
        "import numpy as np\n",
        "import pandas as pd\n",
        "from sklearn import datasets\n",
        "import matplotlib.pyplot as plt\n",
        "import random\n",
        "import time\n",
        "import numpy as np\n",
        "\n",
        "\"\"\"###Auction Algorithm\"\"\"\n",
        "\n",
        "import random\n",
        "import time\n",
        "\n",
        "def AuctionAlgo(val_mat,agents,prices):\n",
        "  N = len(val_mat)\n",
        "  M = len(val_mat[0])\n",
        "  ep = 1/(1+ N)\n",
        "\n",
        "  agents,prices = initialize(agents,prices,N)\n",
        "  unassigned = []\n",
        "  while (-1 in agents.values()):    \n",
        "    max = 0\n",
        "    temp = 0\n",
        "    unassigned_agent = checkAgents(agents)\n",
        "    agents_row = val_mat[unassigned_agent]\n",
        "\n",
        "    for j in range(0, N):\n",
        "      value = agents_row[j] - prices[j]\n",
        "      if value > max:\n",
        "          max = value\n",
        "          obj = j\n",
        "\n",
        "    max2 = 0\n",
        "    for l in range(0, N):\n",
        "      value = agents_row[l] - prices[l]\n",
        "      if value > max2 and value < max:\n",
        "          max2 = value\n",
        "\n",
        "    bid = max - max2 + ep\n",
        "    agents[unassigned_agent] = obj\n",
        "\n",
        "    for key, value in agents.items():\n",
        "        if value is obj and key is not unassigned_agent:\n",
        "            agents[key] = -1\n",
        "            unassigned.append(key)\n",
        "    prices[obj] =prices[obj]+ bid\n",
        "  return agents\n",
        "\n",
        "\n",
        "def checkAgents(agents):\n",
        "  for key, value in agents.items():\n",
        "      if value is -1:\n",
        "        return key\n",
        "\n",
        "def initialize(agents,prices,N):\n",
        "    for i in range(0, N):\n",
        "      agents[i] = -1\n",
        "      prices[i] = 0\n",
        "    return agents,prices\n",
        "\n",
        "def calculateAssignmentValue(val_mat, agents):\n",
        "    total = 0\n",
        "    for key, value in agents.items():\n",
        "        total =total+ val_mat[key][value]\n",
        "    return total\n",
        "\n",
        "\"\"\"###Random Assignment Generation:\"\"\"\n",
        "\n",
        "def dataGeneration(n,M):\n",
        "    return np.random.randint(0, M, size=(n, n))\n",
        "\n",
        "A =dataGeneration(10,9)\n",
        "\n",
        "### testing for auction algorithm\n",
        "agents={}\n",
        "prices={}\n",
        "al = AuctionAlgo(A,agents,prices)\n",
        "print(\"The actual assignment for auction algorithm=\")\n",
        "print(\"(Agent:Object)\")\n",
        "print(al)\n",
        "\n",
        "\"\"\"#Computing time for M from 10 to 100000000\"\"\"\n",
        "\n",
        "def calculate_time(M,iteration):\n",
        "  i=0\n",
        "  t=0\n",
        "  while i<iteration:\n",
        "    mat = np.array(dataGeneration(256,M))\n",
        "    start = time.time()\n",
        "    agents={}\n",
        "    prices={}\n",
        "    al = AuctionAlgo(mat,agents,prices)\n",
        "    end = time.time() - start\n",
        "    t=t+end\n",
        "    i=i+1\n",
        "    if (i%10==0):\n",
        "      print(i)\n",
        "  avg_time = t/iteration    \n",
        "  return avg_time\n",
        "\n",
        "avg = calculate_time(10,100)\n",
        "print(\"Avergae time for M=10\",avg)\n",
        "\n",
        "avg = calculate_time(100,100)\n",
        "print(\"Avergae time for M=100\",avg)\n",
        "\n",
        "# Commenting out as they take more time to compute \n",
        "\n",
        "# avg = calculate_time(1000,100)\n",
        "# print(\"Avergae time for M=1000\",avg)\n",
        "# avg = calculate_time(10000,100)\n",
        "# print(\"Avergae time for M=10000\",avg)\n",
        "# avg = calculate_time(100000,100)\n",
        "# print(\"Avergae time for M=100000\",avg)\n",
        "# avg = calculate_time(1000000,100)\n",
        "# print(\"Avergae time for M=1000000\",avg)\n",
        "# avg = calculate_time(10000000,100)\n",
        "# print(\"Avergae time for M=10000000\",avg)\n",
        "\n",
        "\n",
        "\n"
      ],
      "execution_count": null,
      "outputs": [
        {
          "output_type": "stream",
          "text": [
            "The actual assignment for auction algorithm=\n",
            "(Agent:Object)\n",
            "{0: 2, 1: 3, 2: 0, 3: 8, 4: 5, 5: 1, 6: 7, 7: 6, 8: 9, 9: 4}\n",
            "10\n",
            "20\n",
            "30\n",
            "40\n",
            "50\n",
            "60\n",
            "70\n",
            "80\n",
            "90\n",
            "100\n",
            "Avergae time for M=10 0.2487108063697815\n",
            "10\n",
            "20\n",
            "30\n",
            "40\n",
            "50\n",
            "60\n",
            "70\n",
            "80\n",
            "90\n",
            "100\n",
            "Avergae time for M=100 3.254881763458252\n"
          ],
          "name": "stdout"
        }
      ]
    },
    {
      "cell_type": "code",
      "metadata": {
        "id": "VlVivadePtYQ"
      },
      "source": [
        ""
      ],
      "execution_count": null,
      "outputs": []
    }
  ]
}