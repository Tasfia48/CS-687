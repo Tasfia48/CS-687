{
  "nbformat": 4,
  "nbformat_minor": 0,
  "metadata": {
    "colab": {
      "name": "HW3_1b",
      "provenance": [],
      "collapsed_sections": [],
      "authorship_tag": "ABX9TyOl4Rl3svsy5xVX81A7AxwC"
    },
    "kernelspec": {
      "name": "python3",
      "display_name": "Python 3"
    },
    "language_info": {
      "name": "python"
    }
  },
  "cells": [
    {
      "cell_type": "markdown",
      "metadata": {
        "id": "DxFWbZ_-pNhQ"
      },
      "source": [
        "### Linear Programming using pyomo solver GLPK\n"
      ]
    },
    {
      "cell_type": "code",
      "metadata": {
        "id": "myNUy1l0lL9z",
        "colab": {
          "base_uri": "https://localhost:8080/"
        },
        "outputId": "3c9a2f60-7748-4fe0-bf40-cc92288fa077"
      },
      "source": [
        "!pip install -q pyomo"
      ],
      "execution_count": null,
      "outputs": [
        {
          "output_type": "stream",
          "text": [
            "\u001b[K     |████████████████████████████████| 9.5MB 4.7MB/s \n",
            "\u001b[K     |████████████████████████████████| 51kB 5.5MB/s \n",
            "\u001b[K     |████████████████████████████████| 256kB 39.1MB/s \n",
            "\u001b[K     |████████████████████████████████| 163kB 42.7MB/s \n",
            "\u001b[?25h"
          ],
          "name": "stdout"
        }
      ]
    },
    {
      "cell_type": "code",
      "metadata": {
        "id": "DyvfLRiT-SDT",
        "colab": {
          "base_uri": "https://localhost:8080/"
        },
        "outputId": "fb1f2e91-9042-4c69-a7e4-2d151dd03ef7"
      },
      "source": [
        "!apt-get install -y -qq glpk-utils"
      ],
      "execution_count": null,
      "outputs": [
        {
          "output_type": "stream",
          "text": [
            "Selecting previously unselected package libsuitesparseconfig5:amd64.\n",
            "(Reading database ... 160690 files and directories currently installed.)\n",
            "Preparing to unpack .../libsuitesparseconfig5_1%3a5.1.2-2_amd64.deb ...\n",
            "Unpacking libsuitesparseconfig5:amd64 (1:5.1.2-2) ...\n",
            "Selecting previously unselected package libamd2:amd64.\n",
            "Preparing to unpack .../libamd2_1%3a5.1.2-2_amd64.deb ...\n",
            "Unpacking libamd2:amd64 (1:5.1.2-2) ...\n",
            "Selecting previously unselected package libcolamd2:amd64.\n",
            "Preparing to unpack .../libcolamd2_1%3a5.1.2-2_amd64.deb ...\n",
            "Unpacking libcolamd2:amd64 (1:5.1.2-2) ...\n",
            "Selecting previously unselected package libglpk40:amd64.\n",
            "Preparing to unpack .../libglpk40_4.65-1_amd64.deb ...\n",
            "Unpacking libglpk40:amd64 (4.65-1) ...\n",
            "Selecting previously unselected package glpk-utils.\n",
            "Preparing to unpack .../glpk-utils_4.65-1_amd64.deb ...\n",
            "Unpacking glpk-utils (4.65-1) ...\n",
            "Setting up libsuitesparseconfig5:amd64 (1:5.1.2-2) ...\n",
            "Setting up libcolamd2:amd64 (1:5.1.2-2) ...\n",
            "Setting up libamd2:amd64 (1:5.1.2-2) ...\n",
            "Setting up libglpk40:amd64 (4.65-1) ...\n",
            "Setting up glpk-utils (4.65-1) ...\n",
            "Processing triggers for libc-bin (2.27-3ubuntu1.2) ...\n",
            "/sbin/ldconfig.real: /usr/local/lib/python3.7/dist-packages/ideep4py/lib/libmkldnn.so.0 is not a symbolic link\n",
            "\n",
            "Processing triggers for man-db (2.8.3-2ubuntu0.1) ...\n"
          ],
          "name": "stdout"
        }
      ]
    },
    {
      "cell_type": "code",
      "metadata": {
        "id": "9reUnE1EDnX9"
      },
      "source": [
        "import numpy as np\n",
        "import pandas as pd\n",
        "from sklearn import datasets\n",
        "import matplotlib.pyplot as plt\n",
        "import random\n",
        "import time\n",
        "import numpy as np\n",
        "from pyomo.environ import *\n",
        "from pyomo.opt import SolverFactory"
      ],
      "execution_count": null,
      "outputs": []
    },
    {
      "cell_type": "markdown",
      "metadata": {
        "id": "nKhfEtuq0qf7"
      },
      "source": [
        "### LP with GLPK solver"
      ]
    },
    {
      "cell_type": "code",
      "metadata": {
        "id": "HxDYRFAiF7ks"
      },
      "source": [
        "def glpk_opt(A):  \n",
        "  model = ConcreteModel()\n",
        "  model.Agents = range(len(A))\n",
        "  model.Objects = range(len(A.T))\n",
        "  model.x = Var( model.Agents, model.Objects,bounds=(0.0,1.0) )\n",
        "  model.y = Var( model.Agents, within=Binary )\n",
        "\n",
        "  #Objective\n",
        "  model.obj = Objective(expr = sum(A[n,m]*model.x[n,m] for n in model.Agents for m in model.Objects),sense=maximize )\n",
        "\n",
        "  ###Constraints\n",
        "  model.single_x = ConstraintList()\n",
        "  for m in model.Objects:\n",
        "    model.single_x.add(sum( model.x[n,m] for n in model.Agents ) == 1.0 )\n",
        "    \n",
        "  for m in model.Agents:\n",
        "    model.single_x.add(sum( model.x[m,n] for n in model.Objects ) <= 1.0 )\n",
        "\n",
        "  # create a solver\n",
        "  solver = SolverFactory('glpk', executable='/usr/bin/glpsol')\n",
        "\n",
        "  # solve\n",
        "  solver.solve(model)\n",
        "  a=dict()\n",
        "  for n in model.Agents:\n",
        "    a[n]= []\n",
        "    for m in model.Objects:\n",
        "      a[n].append(value(model.x[n,m])*A[n,m])\n",
        "\n",
        "  assign=dict()\n",
        "  for n in model.Agents:\n",
        "    assign[n]= []\n",
        "    for m in model.Objects:\n",
        "      assign[n].append(value(model.x[n,m]))\n",
        "  total=value(model.obj)       \n",
        "  return a,assign,total    "
      ],
      "execution_count": null,
      "outputs": []
    },
    {
      "cell_type": "markdown",
      "metadata": {
        "id": "oPV45MD1JVWg"
      },
      "source": [
        "###Auction Algorithm"
      ]
    },
    {
      "cell_type": "code",
      "metadata": {
        "id": "xClslVnlHBVg"
      },
      "source": [
        "import random\n",
        "import time\n",
        "\n",
        "def AuctionAlgo(val_mat,agents,prices):\n",
        "  N = len(val_mat)\n",
        "  M = len(val_mat[0])\n",
        "  ep = 1/(1+ N)\n",
        "\n",
        "  agents,prices = initialize(agents,prices,N)\n",
        "  unassigned = []\n",
        "  while (-1 in agents.values()):    \n",
        "    max = 0\n",
        "    temp = 0\n",
        "    unassigned_agent = checkAgents(agents)\n",
        "    agents_row = val_mat[unassigned_agent]\n",
        "\n",
        "    for j in range(0, N):\n",
        "      value = agents_row[j] - prices[j]\n",
        "      if value > max:\n",
        "          max = value\n",
        "          obj = j\n",
        "\n",
        "    max2 = 0\n",
        "    for l in range(0, N):\n",
        "      value = agents_row[l] - prices[l]\n",
        "      if value > max2 and value < max:\n",
        "          max2 = value\n",
        "\n",
        "    bid = max - max2 + ep\n",
        "    agents[unassigned_agent] = obj\n",
        "\n",
        "    for key, value in agents.items():\n",
        "        if value is obj and key is not unassigned_agent:\n",
        "            agents[key] = -1\n",
        "            unassigned.append(key)\n",
        "    prices[obj] =prices[obj]+ bid\n",
        "  return agents\n",
        "\n",
        "\n",
        "def checkAgents(agents):\n",
        "  for key, value in agents.items():\n",
        "      if value is -1:\n",
        "        return key\n",
        "\n",
        "def initialize(agents,prices,N):\n",
        "    for i in range(0, N):\n",
        "      agents[i] = -1\n",
        "      prices[i] = 0\n",
        "    return agents,prices\n",
        "\n",
        "def calculateAssignmentValue(val_mat, agents):\n",
        "    total = 0\n",
        "    for key, value in agents.items():\n",
        "        total =total+ val_mat[key][value]\n",
        "    return total   "
      ],
      "execution_count": null,
      "outputs": []
    },
    {
      "cell_type": "markdown",
      "metadata": {
        "id": "W-Jv-z0C1-eo"
      },
      "source": [
        "###Random Assignment Generation:"
      ]
    },
    {
      "cell_type": "code",
      "metadata": {
        "id": "Dd-qYNhu1-FW"
      },
      "source": [
        "def dataGeneration(n,M):\n",
        "    return np.random.randint(0, M, size=(n, n))"
      ],
      "execution_count": null,
      "outputs": []
    },
    {
      "cell_type": "code",
      "metadata": {
        "id": "bJhTyVdH25uV"
      },
      "source": [
        "A =dataGeneration(10,9)"
      ],
      "execution_count": null,
      "outputs": []
    },
    {
      "cell_type": "code",
      "metadata": {
        "id": "0jSFojlz2gRN"
      },
      "source": [
        "### testing for GLPK solver\n",
        "a,assign,total = glpk_opt(A)"
      ],
      "execution_count": null,
      "outputs": []
    },
    {
      "cell_type": "code",
      "metadata": {
        "colab": {
          "base_uri": "https://localhost:8080/"
        },
        "id": "p2dV0UN83Ipn",
        "outputId": "7d986903-77e9-4896-9318-f7f06cda9680"
      },
      "source": [
        "print(\"Assignemnt for GLPK solver\")\n",
        "for i in assign.keys():\n",
        "  print(\" \"+str(i)+\":\"+str(assign[i].index(max(assign[i]))))"
      ],
      "execution_count": null,
      "outputs": [
        {
          "output_type": "stream",
          "text": [
            "Assignemnt for GLPK solver\n",
            " 0:1\n",
            " 1:2\n",
            " 2:8\n",
            " 3:9\n",
            " 4:7\n",
            " 5:5\n",
            " 6:3\n",
            " 7:4\n",
            " 8:0\n",
            " 9:6\n"
          ],
          "name": "stdout"
        }
      ]
    },
    {
      "cell_type": "code",
      "metadata": {
        "colab": {
          "base_uri": "https://localhost:8080/"
        },
        "id": "7am_IYTH3pkE",
        "outputId": "cdc32cef-0102-41b3-b80a-fdef8890f04e"
      },
      "source": [
        "### testing for auction algorithm\n",
        "agents={}\n",
        "prices={}\n",
        "al = AuctionAlgo(A,agents,prices)\n",
        "print(\"The actual assignment for auction algorithm=\")\n",
        "print(\"(Agent:Object)\")\n",
        "print(al)"
      ],
      "execution_count": null,
      "outputs": [
        {
          "output_type": "stream",
          "text": [
            "The actual assignment for auction algorithm=\n",
            "(Agent:Object)\n",
            "{0: 1, 1: 2, 2: 8, 3: 9, 4: 4, 5: 5, 6: 3, 7: 7, 8: 0, 9: 6}\n"
          ],
          "name": "stdout"
        }
      ]
    },
    {
      "cell_type": "markdown",
      "metadata": {
        "id": "TB8RTHt_4IaG"
      },
      "source": [
        "#Computing the per-agent average value of assignments for  n= 2 to 256 using Auction Algorithm"
      ]
    },
    {
      "cell_type": "code",
      "metadata": {
        "colab": {
          "base_uri": "https://localhost:8080/",
          "height": 350
        },
        "id": "1Jl8PcJJ4H2d",
        "outputId": "0249ca79-8e64-44be-db57-d6ef318c01d3"
      },
      "source": [
        "# Commenting out as it takes a lot of time to generate\n",
        "# n_agent_avg=[]\n",
        "# for x in (2**p for p in range(1,9)):\n",
        "#   sum =0\n",
        "#   for i in range(0,1000):    \n",
        "#     mat = np.array(dataGeneration(x,100))\n",
        "#     agents={}\n",
        "#     prices={}\n",
        "#     al = AuctionAlgo(mat,agents,prices)\n",
        "#     total = calculateAssignmentValue(mat,al)\n",
        "#     sum=sum+total\n",
        "#   avg = sum/1000  \n",
        "#   n_agent_avg.append(avg/x) "
      ],
      "execution_count": null,
      "outputs": [
        {
          "output_type": "error",
          "ename": "KeyboardInterrupt",
          "evalue": "ignored",
          "traceback": [
            "\u001b[0;31m---------------------------------------------------------------------------\u001b[0m",
            "\u001b[0;31mKeyboardInterrupt\u001b[0m                         Traceback (most recent call last)",
            "\u001b[0;32m<ipython-input-30-6332131d5d96>\u001b[0m in \u001b[0;36m<module>\u001b[0;34m()\u001b[0m\n\u001b[1;32m      6\u001b[0m     \u001b[0magents\u001b[0m\u001b[0;34m=\u001b[0m\u001b[0;34m{\u001b[0m\u001b[0;34m}\u001b[0m\u001b[0;34m\u001b[0m\u001b[0;34m\u001b[0m\u001b[0m\n\u001b[1;32m      7\u001b[0m     \u001b[0mprices\u001b[0m\u001b[0;34m=\u001b[0m\u001b[0;34m{\u001b[0m\u001b[0;34m}\u001b[0m\u001b[0;34m\u001b[0m\u001b[0;34m\u001b[0m\u001b[0m\n\u001b[0;32m----> 8\u001b[0;31m     \u001b[0mal\u001b[0m \u001b[0;34m=\u001b[0m \u001b[0mAuctionAlgo\u001b[0m\u001b[0;34m(\u001b[0m\u001b[0mmat\u001b[0m\u001b[0;34m,\u001b[0m\u001b[0magents\u001b[0m\u001b[0;34m,\u001b[0m\u001b[0mprices\u001b[0m\u001b[0;34m)\u001b[0m\u001b[0;34m\u001b[0m\u001b[0;34m\u001b[0m\u001b[0m\n\u001b[0m\u001b[1;32m      9\u001b[0m     \u001b[0mtotal\u001b[0m \u001b[0;34m=\u001b[0m \u001b[0mcalculateAssignmentValue\u001b[0m\u001b[0;34m(\u001b[0m\u001b[0mmat\u001b[0m\u001b[0;34m,\u001b[0m\u001b[0mal\u001b[0m\u001b[0;34m)\u001b[0m\u001b[0;34m\u001b[0m\u001b[0;34m\u001b[0m\u001b[0m\n\u001b[1;32m     10\u001b[0m     \u001b[0msum\u001b[0m\u001b[0;34m=\u001b[0m\u001b[0msum\u001b[0m\u001b[0;34m+\u001b[0m\u001b[0mtotal\u001b[0m\u001b[0;34m\u001b[0m\u001b[0;34m\u001b[0m\u001b[0m\n",
            "\u001b[0;32m<ipython-input-20-b10fce5fd08d>\u001b[0m in \u001b[0;36mAuctionAlgo\u001b[0;34m(val_mat, agents, prices)\u001b[0m\n\u001b[1;32m     17\u001b[0m     \u001b[0;32mfor\u001b[0m \u001b[0mj\u001b[0m \u001b[0;32min\u001b[0m \u001b[0mrange\u001b[0m\u001b[0;34m(\u001b[0m\u001b[0;36m0\u001b[0m\u001b[0;34m,\u001b[0m \u001b[0mN\u001b[0m\u001b[0;34m)\u001b[0m\u001b[0;34m:\u001b[0m\u001b[0;34m\u001b[0m\u001b[0;34m\u001b[0m\u001b[0m\n\u001b[1;32m     18\u001b[0m       \u001b[0mvalue\u001b[0m \u001b[0;34m=\u001b[0m \u001b[0magents_row\u001b[0m\u001b[0;34m[\u001b[0m\u001b[0mj\u001b[0m\u001b[0;34m]\u001b[0m \u001b[0;34m-\u001b[0m \u001b[0mprices\u001b[0m\u001b[0;34m[\u001b[0m\u001b[0mj\u001b[0m\u001b[0;34m]\u001b[0m\u001b[0;34m\u001b[0m\u001b[0;34m\u001b[0m\u001b[0m\n\u001b[0;32m---> 19\u001b[0;31m       \u001b[0;32mif\u001b[0m \u001b[0mvalue\u001b[0m \u001b[0;34m>\u001b[0m \u001b[0mmax\u001b[0m\u001b[0;34m:\u001b[0m\u001b[0;34m\u001b[0m\u001b[0;34m\u001b[0m\u001b[0m\n\u001b[0m\u001b[1;32m     20\u001b[0m           \u001b[0mmax\u001b[0m \u001b[0;34m=\u001b[0m \u001b[0mvalue\u001b[0m\u001b[0;34m\u001b[0m\u001b[0;34m\u001b[0m\u001b[0m\n\u001b[1;32m     21\u001b[0m           \u001b[0mobj\u001b[0m \u001b[0;34m=\u001b[0m \u001b[0mj\u001b[0m\u001b[0;34m\u001b[0m\u001b[0;34m\u001b[0m\u001b[0m\n",
            "\u001b[0;31mKeyboardInterrupt\u001b[0m: "
          ]
        }
      ]
    },
    {
      "cell_type": "code",
      "metadata": {
        "colab": {
          "base_uri": "https://localhost:8080/"
        },
        "id": "BYWIyQMQ5YXY",
        "outputId": "8cbc9805-0dd9-4055-8260-3edc2e0db206"
      },
      "source": [
        "# print(\"Per_agent average value\",n_agent_avg)"
      ],
      "execution_count": null,
      "outputs": [
        {
          "output_type": "stream",
          "text": [
            "Per_agent average value [60.8315, 73.23225, 83.349625, 90.36925, 94.6445625, 97.002]\n"
          ],
          "name": "stdout"
        }
      ]
    },
    {
      "cell_type": "markdown",
      "metadata": {
        "id": "GcQhiaDV_WZ3"
      },
      "source": [
        "### Per Agent Average Value"
      ]
    },
    {
      "cell_type": "code",
      "metadata": {
        "id": "onG8QQchfV61"
      },
      "source": [
        "def plot_per_agent_avg(n,M,iteration):\n",
        "  total=np.zeros((n,1))\n",
        "  for i in range(iteration):\n",
        "    mat= np.array(dataGeneration(n,M))\n",
        "    agents={}\n",
        "    prices={}\n",
        "    al = AuctionAlgo(mat,agents,prices)\n",
        "    for key, value in al.items():\n",
        "      total[key]+=mat[key][value]\n",
        "\n",
        "  ag=[x for x in range(n)]\n",
        "  total=total/iteration\n",
        "  total=total.reshape((1,n))\n",
        "  total=[total[0][j] for j in range(n)]\n",
        "  plt.figure(figsize=(10, 6))\n",
        "  plt.plot(ag,total)\n",
        "  plt.xlabel('Agents',fontsize=14)\n",
        "  plt.ylabel('Average value for each agent',fontsize=14)\n",
        "  # plt.xticks(np.arange(n))\n",
        "  plt.title(\"Average value for each agent while agent=\"+str(n),fontsize=14)\n",
        "  plt.savefig(\"auction\"+str(n)+\".png\", dpi=200,fontsize=14)\n",
        "  plt.show()"
      ],
      "execution_count": null,
      "outputs": []
    },
    {
      "cell_type": "code",
      "metadata": {
        "colab": {
          "base_uri": "https://localhost:8080/",
          "height": 408
        },
        "id": "Mj7iMZYPAxh_",
        "outputId": "209078cd-a8d9-4481-d92c-35b8aab3707e"
      },
      "source": [
        "#plot_per_agent_avg(2,100,1000) # Commenting out as it takes a lot of time to generate\n"
      ],
      "execution_count": null,
      "outputs": [
        {
          "output_type": "display_data",
          "data": {
            "image/png": "[encoded data removed]",
            "text/plain": [
              "<Figure size 720x432 with 1 Axes>"
            ]
          },
          "metadata": {
            "tags": [],
            "needs_background": "light"
          }
        }
      ]
    },
    {
      "cell_type": "code",
      "metadata": {
        "id": "oIeWMAL4GVXF"
      },
      "source": [
        ""
      ],
      "execution_count": null,
      "outputs": []
    }
  ]
}