{
  "nbformat": 4,
  "nbformat_minor": 0,
  "metadata": {
    "colab": {
      "name": "HW3_1a",
      "provenance": [],
      "collapsed_sections": [],
      "authorship_tag": "ABX9TyP5MKqUGU2wfLZZEberDv+x",
      "include_colab_link": true
    },
    "kernelspec": {
      "name": "python3",
      "display_name": "Python 3"
    },
    "language_info": {
      "name": "python"
    }
  },
  "cells": [
    {
      "cell_type": "markdown",
      "metadata": {
        "id": "view-in-github",
        "colab_type": "text"
      },
      "source": [
        "<a href=\"https://colab.research.google.com/github/Tasfia48/CS-687/blob/main/HW3_1a.ipynb\" target=\"_parent\"><img src=\"https://colab.research.google.com/assets/colab-badge.svg\" alt=\"Open In Colab\"/></a>"
      ]
    },
    {
      "cell_type": "markdown",
      "metadata": {
        "id": "DxFWbZ_-pNhQ"
      },
      "source": [
        "### Linear Programming using pyomo solver GLPK\n"
      ]
    },
    {
      "cell_type": "code",
      "metadata": {
        "id": "myNUy1l0lL9z",
        "colab": {
          "base_uri": "https://localhost:8080/"
        },
        "outputId": "0229aefb-84fb-405a-d496-5672d066e6c2"
      },
      "source": [
        "!pip install -q pyomo"
      ],
      "execution_count": null,
      "outputs": [
        {
          "output_type": "stream",
          "text": [
            "\u001b[K     |████████████████████████████████| 9.5MB 2.8MB/s \n",
            "\u001b[K     |████████████████████████████████| 256kB 40.7MB/s \n",
            "\u001b[K     |████████████████████████████████| 51kB 4.9MB/s \n",
            "\u001b[K     |████████████████████████████████| 163kB 41.4MB/s \n",
            "\u001b[?25h"
          ],
          "name": "stdout"
        }
      ]
    },
    {
      "cell_type": "code",
      "metadata": {
        "id": "DyvfLRiT-SDT",
        "colab": {
          "base_uri": "https://localhost:8080/"
        },
        "outputId": "bd17168f-f1d9-4da4-8c93-2964d7e3abe9"
      },
      "source": [
        "!apt-get install -y -qq glpk-utils"
      ],
      "execution_count": null,
      "outputs": [
        {
          "output_type": "stream",
          "text": [
            "Selecting previously unselected package libsuitesparseconfig5:amd64.\n",
            "(Reading database ... 160690 files and directories currently installed.)\n",
            "Preparing to unpack .../libsuitesparseconfig5_1%3a5.1.2-2_amd64.deb ...\n",
            "Unpacking libsuitesparseconfig5:amd64 (1:5.1.2-2) ...\n",
            "Selecting previously unselected package libamd2:amd64.\n",
            "Preparing to unpack .../libamd2_1%3a5.1.2-2_amd64.deb ...\n",
            "Unpacking libamd2:amd64 (1:5.1.2-2) ...\n",
            "Selecting previously unselected package libcolamd2:amd64.\n",
            "Preparing to unpack .../libcolamd2_1%3a5.1.2-2_amd64.deb ...\n",
            "Unpacking libcolamd2:amd64 (1:5.1.2-2) ...\n",
            "Selecting previously unselected package libglpk40:amd64.\n",
            "Preparing to unpack .../libglpk40_4.65-1_amd64.deb ...\n",
            "Unpacking libglpk40:amd64 (4.65-1) ...\n",
            "Selecting previously unselected package glpk-utils.\n",
            "Preparing to unpack .../glpk-utils_4.65-1_amd64.deb ...\n",
            "Unpacking glpk-utils (4.65-1) ...\n",
            "Setting up libsuitesparseconfig5:amd64 (1:5.1.2-2) ...\n",
            "Setting up libcolamd2:amd64 (1:5.1.2-2) ...\n",
            "Setting up libamd2:amd64 (1:5.1.2-2) ...\n",
            "Setting up libglpk40:amd64 (4.65-1) ...\n",
            "Setting up glpk-utils (4.65-1) ...\n",
            "Processing triggers for libc-bin (2.27-3ubuntu1.2) ...\n",
            "/sbin/ldconfig.real: /usr/local/lib/python3.7/dist-packages/ideep4py/lib/libmkldnn.so.0 is not a symbolic link\n",
            "\n",
            "Processing triggers for man-db (2.8.3-2ubuntu0.1) ...\n"
          ],
          "name": "stdout"
        }
      ]
    },
    {
      "cell_type": "code",
      "metadata": {
        "id": "9reUnE1EDnX9"
      },
      "source": [
        "import numpy as np\n",
        "import pandas as pd\n",
        "from sklearn import datasets\n",
        "import matplotlib.pyplot as plt\n",
        "import random\n",
        "import numpy as np\n",
        "from pyomo.environ import *\n",
        "from pyomo.opt import SolverFactory"
      ],
      "execution_count": null,
      "outputs": []
    },
    {
      "cell_type": "code",
      "metadata": {
        "id": "3AnFnjEbB55L"
      },
      "source": [
        "#Loading data set\n",
        "Col_name = np.arange(0, 10)\n",
        "df = pd.read_csv('input.txt',names=Col_name, header=None)\n",
        "df[1] = (df[0].str.split(' ').str[1]).astype(int)\n",
        "df[2] = (df[0].str.split(' ').str[2]).astype(int)\n",
        "df[3] = (df[0].str.split(' ').str[3]).astype(int)\n",
        "df[4] = (df[0].str.split(' ').str[4]).astype(int)\n",
        "df[5] = (df[0].str.split(' ').str[5]).astype(int)\n",
        "df[6] = (df[0].str.split(' ').str[6]).astype(int)\n",
        "df[7] = (df[0].str.split(' ').str[7]).astype(int)\n",
        "df[8] = (df[0].str.split(' ').str[8]).astype(int)\n",
        "df[9] = (df[0].str.split(' ').str[9]).astype(int)\n",
        "df[10] = (df[0].str.split(' ').str[10]).astype(int)\n",
        "df=df.drop(columns=0)\n",
        "# df.head(5)"
      ],
      "execution_count": null,
      "outputs": []
    },
    {
      "cell_type": "code",
      "metadata": {
        "colab": {
          "base_uri": "https://localhost:8080/"
        },
        "id": "FjCOFM34FSfb",
        "outputId": "d5c78132-63be-43d1-ffe9-1c1972697a45"
      },
      "source": [
        "df.values"
      ],
      "execution_count": null,
      "outputs": [
        {
          "output_type": "execute_result",
          "data": {
            "text/plain": [
              "array([[89, 42,  0,  2, 24, 20, 40, 37, 30, 77],\n",
              "       [66, 75,  9, 59, 69, 66, 52, 14, 85, 36],\n",
              "       [82, 68,  0, 81, 36, 25, 48, 53, 11, 68],\n",
              "       [ 6, 96, 82, 53, 17, 70, 26, 12, 91, 82],\n",
              "       [34, 86, 22, 18, 66, 73, 82, 88, 18, 36],\n",
              "       [90, 43, 43, 93, 80, 96, 12, 28, 74, 93],\n",
              "       [19, 75, 30, 48, 31, 76, 84, 29, 20, 15],\n",
              "       [29, 73, 88,  9, 36, 40, 40, 19,  1, 45],\n",
              "       [77, 31,  6, 68, 36, 40, 22, 43, 27, 61],\n",
              "       [70, 21,  2, 89, 30, 91, 66, 74, 79, 92]])"
            ]
          },
          "metadata": {
            "tags": []
          },
          "execution_count": 5
        }
      ]
    },
    {
      "cell_type": "code",
      "metadata": {
        "id": "Zhfah-ENF00N"
      },
      "source": [
        "A= np.array(df.values)"
      ],
      "execution_count": null,
      "outputs": []
    },
    {
      "cell_type": "code",
      "metadata": {
        "id": "HxDYRFAiF7ks"
      },
      "source": [
        "model = ConcreteModel()\n",
        "model.Agents = range(len(A))\n",
        "model.Objects = range(len(A.T))\n",
        "model.x = Var( model.Agents, model.Objects,bounds=(0.0,1.0) )\n",
        "model.y = Var( model.Agents, within=Binary )\n",
        "\n",
        "#Objective\n",
        "model.obj = Objective(expr = sum(A[n,m]*model.x[n,m] for n in model.Agents for m in model.Objects),sense=maximize )\n",
        "\n",
        "###Constraints\n",
        "model.single_x = ConstraintList()\n",
        "for m in model.Objects:\n",
        "  model.single_x.add(sum( model.x[n,m] for n in model.Agents ) == 1.0 )\n",
        "\n",
        "# model.bound_y = ConstraintList()\n",
        "for m in model.Agents:\n",
        "  model.single_x.add(sum( model.x[m,n] for n in model.Objects ) <= 1.0 )\n",
        "\n",
        "# create a solver\n",
        "solver = SolverFactory('glpk', executable='/usr/bin/glpsol')\n",
        "\n",
        "# solve\n",
        "solver.solve(model)\n",
        "a=dict()\n",
        "for n in model.Agents:\n",
        "  a[n]= []\n",
        "  for m in model.Objects:\n",
        "    a[n].append(value(model.x[n,m])*A[n,m])\n",
        "assign=dict()\n",
        "for n in model.Agents:\n",
        "  assign[n]= []\n",
        "  for m in model.Objects:\n",
        "    assign[n].append(value(model.x[n,m]))\n",
        "total=value(model.obj) "
      ],
      "execution_count": null,
      "outputs": []
    },
    {
      "cell_type": "code",
      "metadata": {
        "colab": {
          "base_uri": "https://localhost:8080/"
        },
        "id": "pAdMpzHiF8XT",
        "outputId": "1db06c27-7cc9-48ec-b629-941f51b44abc"
      },
      "source": [
        "print(\"total assignment value using GLPK solver\"+str (total))"
      ],
      "execution_count": null,
      "outputs": [
        {
          "output_type": "stream",
          "text": [
            "total assignment value using GLPK solver847.0\n"
          ],
          "name": "stdout"
        }
      ]
    },
    {
      "cell_type": "code",
      "metadata": {
        "colab": {
          "base_uri": "https://localhost:8080/"
        },
        "id": "tOjC1etdHAGI",
        "outputId": "7f205559-5da2-482c-a187-00fd859f7bfc"
      },
      "source": [
        "assign"
      ],
      "execution_count": null,
      "outputs": [
        {
          "output_type": "execute_result",
          "data": {
            "text/plain": [
              "{0: [0.0, 0.0, 0.0, 0.0, 0.0, 0.0, 0.0, 0.0, 0.0, 1.0],\n",
              " 1: [0.0, 0.0, 0.0, 0.0, 0.0, 0.0, 0.0, 0.0, 1.0, 0.0],\n",
              " 2: [0.0, 0.0, 0.0, 1.0, 0.0, 0.0, 0.0, 0.0, 0.0, 0.0],\n",
              " 3: [0.0, 1.0, 0.0, 0.0, 0.0, 0.0, 0.0, 0.0, 0.0, 0.0],\n",
              " 4: [0.0, 0.0, 0.0, 0.0, 0.0, 0.0, 0.0, 1.0, 0.0, 0.0],\n",
              " 5: [0.0, 0.0, 0.0, 0.0, 1.0, 0.0, 0.0, 0.0, 0.0, 0.0],\n",
              " 6: [0.0, 0.0, 0.0, 0.0, 0.0, 0.0, 1.0, 0.0, 0.0, 0.0],\n",
              " 7: [0.0, 0.0, 1.0, 0.0, 0.0, 0.0, 0.0, 0.0, 0.0, 0.0],\n",
              " 8: [1.0, 0.0, 0.0, 0.0, 0.0, 0.0, 0.0, 0.0, 0.0, 0.0],\n",
              " 9: [0.0, 0.0, 0.0, 0.0, 0.0, 1.0, 0.0, 0.0, 0.0, 0.0]}"
            ]
          },
          "metadata": {
            "tags": []
          },
          "execution_count": 9
        }
      ]
    },
    {
      "cell_type": "code",
      "metadata": {
        "colab": {
          "base_uri": "https://localhost:8080/"
        },
        "id": "6lWfWP-xn9DD",
        "outputId": "60ea6f6a-7eeb-47f8-f859-8c0e7adde689"
      },
      "source": [
        "print(\"The actual assignment=\")\n",
        "print(\"(Agent:Object)\")\n",
        "for i in assign.keys():\n",
        "  print(\" \"+str(i)+\":\"+str(assign[i].index(max(assign[i]))))"
      ],
      "execution_count": null,
      "outputs": [
        {
          "output_type": "stream",
          "text": [
            "The actual assignment=\n",
            "(Agent:Object)\n",
            " 0:9\n",
            " 1:8\n",
            " 2:3\n",
            " 3:1\n",
            " 4:7\n",
            " 5:4\n",
            " 6:6\n",
            " 7:2\n",
            " 8:0\n",
            " 9:5\n"
          ],
          "name": "stdout"
        }
      ]
    },
    {
      "cell_type": "markdown",
      "metadata": {
        "id": "oPV45MD1JVWg"
      },
      "source": [
        "###Auction Algorithm"
      ]
    },
    {
      "cell_type": "code",
      "metadata": {
        "id": "xClslVnlHBVg"
      },
      "source": [
        "import random\n",
        "import time\n",
        "\n",
        "def AuctionAlgo(val_mat,agents,prices):\n",
        "  N = len(val_mat)\n",
        "  M = len(val_mat[0])\n",
        "  ep = 1/(1+ N)\n",
        "\n",
        "  agents,prices = initialize(agents,prices,N)\n",
        "  unassigned = []\n",
        "  while (-1 in agents.values()):    \n",
        "    max = 0\n",
        "    temp = 0\n",
        "    unassigned_agent = checkAgents(agents)\n",
        "    agents_row = val_mat[unassigned_agent]\n",
        "\n",
        "    for j in range(0, N):\n",
        "      value = agents_row[j] - prices[j]\n",
        "      if value > max:\n",
        "          max = value\n",
        "          obj = j\n",
        "\n",
        "    max2 = 0\n",
        "    for l in range(0, N):\n",
        "      value = agents_row[l] - prices[l]\n",
        "      if value > max2 and value < max:\n",
        "          max2 = value\n",
        "\n",
        "    bid = max - max2 + ep\n",
        "    agents[unassigned_agent] = obj\n",
        "\n",
        "    for key, value in agents.items():\n",
        "        if value is obj and key is not unassigned_agent:\n",
        "            agents[key] = -1\n",
        "            unassigned.append(key)\n",
        "    prices[obj] =prices[obj]+ bid\n",
        "  return agents\n",
        "\n",
        "\n",
        "def checkAgents(agents):\n",
        "  for key, value in agents.items():\n",
        "      if value is -1:\n",
        "        return key\n",
        "\n",
        "def initialize(agents,prices,N):\n",
        "    for i in range(0, N):\n",
        "      agents[i] = -1\n",
        "      prices[i] = 0\n",
        "    return agents,prices\n",
        "\n",
        "def calculateAssignmentValue(val_mat, agents):\n",
        "    total = 0\n",
        "    for key, value in agents.items():\n",
        "        total =total+ val_mat[key][value]\n",
        "    return total   "
      ],
      "execution_count": null,
      "outputs": []
    },
    {
      "cell_type": "code",
      "metadata": {
        "id": "i4BmVl1RJa0M",
        "colab": {
          "base_uri": "https://localhost:8080/"
        },
        "outputId": "6a3644cb-e42a-4af0-c156-76adc6942b0a"
      },
      "source": [
        "agents = {}\n",
        "prices = {}\n",
        "B= A.tolist()\n",
        "al=AuctionAlgo(A.tolist(),agents,prices)\n",
        "al"
      ],
      "execution_count": null,
      "outputs": [
        {
          "output_type": "execute_result",
          "data": {
            "text/plain": [
              "{0: 9, 1: 8, 2: 3, 3: 1, 4: 7, 5: 4, 6: 6, 7: 2, 8: 0, 9: 5}"
            ]
          },
          "metadata": {
            "tags": []
          },
          "execution_count": 57
        }
      ]
    },
    {
      "cell_type": "code",
      "metadata": {
        "colab": {
          "base_uri": "https://localhost:8080/"
        },
        "id": "G4a3OX1Gt0S8",
        "outputId": "19de8ae8-efd5-4c10-9476-4e093e8f5aed"
      },
      "source": [
        "print(\"Total assignment value= \"+str(calculateAssignmentValue(B,al)))"
      ],
      "execution_count": null,
      "outputs": [
        {
          "output_type": "stream",
          "text": [
            "Total assignment value= 847\n"
          ],
          "name": "stdout"
        }
      ]
    },
    {
      "cell_type": "code",
      "metadata": {
        "id": "Q_YzFmbtJx5-",
        "colab": {
          "base_uri": "https://localhost:8080/"
        },
        "outputId": "69a9ac04-7a70-427b-83df-dba4b19f51e1"
      },
      "source": [
        "print(\"The actual assignment for auction algorithm=\")\n",
        "print(\"(Agent:Object)\")\n",
        "print(al)"
      ],
      "execution_count": null,
      "outputs": [
        {
          "output_type": "stream",
          "text": [
            "The actual assignment=\n",
            "(Agent:Object)\n",
            "{0: 9, 1: 8, 2: 3, 3: 1, 4: 7, 5: 4, 6: 6, 7: 2, 8: 0, 9: 5}\n"
          ],
          "name": "stdout"
        }
      ]
    },
    {
      "cell_type": "code",
      "metadata": {
        "colab": {
          "base_uri": "https://localhost:8080/"
        },
        "id": "n8-jVQSL1N4F",
        "outputId": "450523fa-973a-41b0-be7b-bf202b8d349a"
      },
      "source": [
        "# -*- coding: utf-8 -*-\n",
        "\"\"\"HW3_1a\n",
        "\n",
        "Automatically generated by Colaboratory.\n",
        "\n",
        "Original file is located at\n",
        "    https://colab.research.google.com/drive/13iqjJD7WZ-bk0N_M8o3rHNfbhFUK2gpM\n",
        "\n",
        "### Linear Programming using pyomo solver GLPK\n",
        "\"\"\"\n",
        "\n",
        "!pip install -q pyomo\n",
        "\n",
        "!apt-get install -y -qq glpk-utils\n",
        "\n",
        "import numpy as np\n",
        "import pandas as pd\n",
        "from sklearn import datasets\n",
        "import matplotlib.pyplot as plt\n",
        "import random\n",
        "import numpy as np\n",
        "from pyomo.environ import *\n",
        "from pyomo.opt import SolverFactory\n",
        "\n",
        "#Loading data set\n",
        "Col_name = np.arange(0, 10)\n",
        "df = pd.read_csv('input.txt',names=Col_name, header=None)\n",
        "df[1] = (df[0].str.split(' ').str[1]).astype(int)\n",
        "df[2] = (df[0].str.split(' ').str[2]).astype(int)\n",
        "df[3] = (df[0].str.split(' ').str[3]).astype(int)\n",
        "df[4] = (df[0].str.split(' ').str[4]).astype(int)\n",
        "df[5] = (df[0].str.split(' ').str[5]).astype(int)\n",
        "df[6] = (df[0].str.split(' ').str[6]).astype(int)\n",
        "df[7] = (df[0].str.split(' ').str[7]).astype(int)\n",
        "df[8] = (df[0].str.split(' ').str[8]).astype(int)\n",
        "df[9] = (df[0].str.split(' ').str[9]).astype(int)\n",
        "df[10] = (df[0].str.split(' ').str[10]).astype(int)\n",
        "df=df.drop(columns=0)\n",
        "# df.head(5)\n",
        "\n",
        "df.values\n",
        "\n",
        "A= np.array(df.values)\n",
        "\n",
        "model = ConcreteModel()\n",
        "model.Agents = range(len(A))\n",
        "model.Objects = range(len(A.T))\n",
        "model.x = Var( model.Agents, model.Objects,bounds=(0.0,1.0) )\n",
        "model.y = Var( model.Agents, within=Binary )\n",
        "\n",
        "#Objective\n",
        "model.obj = Objective(expr = sum(A[n,m]*model.x[n,m] for n in model.Agents for m in model.Objects),sense=maximize )\n",
        "\n",
        "###Constraints\n",
        "model.single_x = ConstraintList()\n",
        "for m in model.Objects:\n",
        "  model.single_x.add(sum( model.x[n,m] for n in model.Agents ) == 1.0 )\n",
        "\n",
        "# model.bound_y = ConstraintList()\n",
        "for m in model.Agents:\n",
        "  model.single_x.add(sum( model.x[m,n] for n in model.Objects ) <= 1.0 )\n",
        "\n",
        "# create a solver\n",
        "solver = SolverFactory('glpk', executable='/usr/bin/glpsol')\n",
        "\n",
        "# solve\n",
        "solver.solve(model)\n",
        "a=dict()\n",
        "for n in model.Agents:\n",
        "  a[n]= []\n",
        "  for m in model.Objects:\n",
        "    a[n].append(value(model.x[n,m])*A[n,m])\n",
        "assign=dict()\n",
        "for n in model.Agents:\n",
        "  assign[n]= []\n",
        "  for m in model.Objects:\n",
        "    assign[n].append(value(model.x[n,m]))\n",
        "total=value(model.obj)\n",
        "\n",
        "print(\"total assignment value using GLPK solver\"+str (total))\n",
        "\n",
        "assign\n",
        "\n",
        "print(\"The actual assignment using GLPK solver=\")\n",
        "print(\"(Agent:Object)\")\n",
        "for i in assign.keys():\n",
        "  print(\" \"+str(i)+\":\"+str(assign[i].index(max(assign[i]))))\n",
        "\n",
        "\"\"\"###Auction Algorithm\"\"\"\n",
        "\n",
        "import random\n",
        "import time\n",
        "\n",
        "def AuctionAlgo(val_mat,agents,prices):\n",
        "  N = len(val_mat)\n",
        "  M = len(val_mat[0])\n",
        "  ep = 1/(1+ N)\n",
        "\n",
        "  agents,prices = initialize(agents,prices,N)\n",
        "  unassigned = []\n",
        "  while (-1 in agents.values()):    \n",
        "    max = 0\n",
        "    temp = 0\n",
        "    unassigned_agent = checkAgents(agents)\n",
        "    agents_row = val_mat[unassigned_agent]\n",
        "\n",
        "    for j in range(0, N):\n",
        "      value = agents_row[j] - prices[j]\n",
        "      if value > max:\n",
        "          max = value\n",
        "          obj = j\n",
        "\n",
        "    max2 = 0\n",
        "    for l in range(0, N):\n",
        "      value = agents_row[l] - prices[l]\n",
        "      if value > max2 and value < max:\n",
        "          max2 = value\n",
        "\n",
        "    bid = max - max2 + ep\n",
        "    agents[unassigned_agent] = obj\n",
        "\n",
        "    for key, value in agents.items():\n",
        "        if value is obj and key is not unassigned_agent:\n",
        "            agents[key] = -1\n",
        "            unassigned.append(key)\n",
        "    prices[obj] =prices[obj]+ bid\n",
        "  return agents\n",
        "\n",
        "\n",
        "def checkAgents(agents):\n",
        "  for key, value in agents.items():\n",
        "      if value is -1:\n",
        "        return key\n",
        "\n",
        "def initialize(agents,prices,N):\n",
        "    for i in range(0, N):\n",
        "      agents[i] = -1\n",
        "      prices[i] = 0\n",
        "    return agents,prices\n",
        "\n",
        "def calculateAssignmentValue(val_mat, agents):\n",
        "    total = 0\n",
        "    for key, value in agents.items():\n",
        "        total =total+ val_mat[key][value]\n",
        "    return total\n",
        "\n",
        "agents = {}\n",
        "prices = {}\n",
        "B= A.tolist()\n",
        "al=AuctionAlgo(A.tolist(),agents,prices)\n",
        "al\n",
        "\n",
        "print(\"Total assignment value for auction algorithm= \"+str(calculateAssignmentValue(B,al)))\n",
        "\n",
        "print(\"The actual assignment for auction algorithm=\")\n",
        "print(\"(Agent:Object)\")\n",
        "print(al)"
      ],
      "execution_count": null,
      "outputs": [
        {
          "output_type": "stream",
          "text": [
            "total assignment value using GLPK solver847.0\n",
            "The actual assignment using GLPK solver=\n",
            "(Agent:Object)\n",
            " 0:9\n",
            " 1:8\n",
            " 2:3\n",
            " 3:1\n",
            " 4:7\n",
            " 5:4\n",
            " 6:6\n",
            " 7:2\n",
            " 8:0\n",
            " 9:5\n",
            "Total assignment value for auction algorithm= 847\n",
            "The actual assignment for auction algorithm=\n",
            "(Agent:Object)\n",
            "{0: 9, 1: 8, 2: 3, 3: 1, 4: 7, 5: 4, 6: 6, 7: 2, 8: 0, 9: 5}\n"
          ],
          "name": "stdout"
        }
      ]
    },
    {
      "cell_type": "code",
      "metadata": {
        "id": "j74lqODQ1P_w"
      },
      "source": [
        ""
      ],
      "execution_count": null,
      "outputs": []
    }
  ]
}