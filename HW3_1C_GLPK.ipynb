{
  "nbformat": 4,
  "nbformat_minor": 0,
  "metadata": {
    "colab": {
      "name": "HW3_1C_GLPK",
      "provenance": [],
      "collapsed_sections": [],
      "authorship_tag": "ABX9TyO/I6Izino+Wd3A0VgquqEb",
      "include_colab_link": true
    },
    "kernelspec": {
      "name": "python3",
      "display_name": "Python 3"
    },
    "language_info": {
      "name": "python"
    }
  },
  "cells": [
    {
      "cell_type": "markdown",
      "metadata": {
        "id": "view-in-github",
        "colab_type": "text"
      },
      "source": [
        "<a href=\"https://colab.research.google.com/github/Tasfia48/CS-687/blob/main/HW3_1C_GLPK.ipynb\" target=\"_parent\"><img src=\"https://colab.research.google.com/assets/colab-badge.svg\" alt=\"Open In Colab\"/></a>"
      ]
    },
    {
      "cell_type": "markdown",
      "metadata": {
        "id": "DxFWbZ_-pNhQ"
      },
      "source": [
        "### Linear Programming using pyomo solver GLPK\n"
      ]
    },
    {
      "cell_type": "code",
      "metadata": {
        "id": "myNUy1l0lL9z",
        "colab": {
          "base_uri": "https://localhost:8080/"
        },
        "outputId": "2663261b-72f2-430f-e73e-9106a1116769"
      },
      "source": [
        "!pip install -q pyomo"
      ],
      "execution_count": null,
      "outputs": [
        {
          "output_type": "stream",
          "text": [
            "\u001b[K     |████████████████████████████████| 9.5MB 7.2MB/s \n",
            "\u001b[K     |████████████████████████████████| 51kB 5.3MB/s \n",
            "\u001b[K     |████████████████████████████████| 256kB 51.8MB/s \n",
            "\u001b[K     |████████████████████████████████| 163kB 38.6MB/s \n",
            "\u001b[?25h"
          ],
          "name": "stdout"
        }
      ]
    },
    {
      "cell_type": "code",
      "metadata": {
        "id": "DyvfLRiT-SDT",
        "colab": {
          "base_uri": "https://localhost:8080/"
        },
        "outputId": "fb652f57-c670-4f53-8f6a-2fbab3892e1f"
      },
      "source": [
        "!apt-get install -y -qq glpk-utils"
      ],
      "execution_count": null,
      "outputs": [
        {
          "output_type": "stream",
          "text": [
            "Selecting previously unselected package libsuitesparseconfig5:amd64.\n",
            "(Reading database ... 160690 files and directories currently installed.)\n",
            "Preparing to unpack .../libsuitesparseconfig5_1%3a5.1.2-2_amd64.deb ...\n",
            "Unpacking libsuitesparseconfig5:amd64 (1:5.1.2-2) ...\n",
            "Selecting previously unselected package libamd2:amd64.\n",
            "Preparing to unpack .../libamd2_1%3a5.1.2-2_amd64.deb ...\n",
            "Unpacking libamd2:amd64 (1:5.1.2-2) ...\n",
            "Selecting previously unselected package libcolamd2:amd64.\n",
            "Preparing to unpack .../libcolamd2_1%3a5.1.2-2_amd64.deb ...\n",
            "Unpacking libcolamd2:amd64 (1:5.1.2-2) ...\n",
            "Selecting previously unselected package libglpk40:amd64.\n",
            "Preparing to unpack .../libglpk40_4.65-1_amd64.deb ...\n",
            "Unpacking libglpk40:amd64 (4.65-1) ...\n",
            "Selecting previously unselected package glpk-utils.\n",
            "Preparing to unpack .../glpk-utils_4.65-1_amd64.deb ...\n",
            "Unpacking glpk-utils (4.65-1) ...\n",
            "Setting up libsuitesparseconfig5:amd64 (1:5.1.2-2) ...\n",
            "Setting up libcolamd2:amd64 (1:5.1.2-2) ...\n",
            "Setting up libamd2:amd64 (1:5.1.2-2) ...\n",
            "Setting up libglpk40:amd64 (4.65-1) ...\n",
            "Setting up glpk-utils (4.65-1) ...\n",
            "Processing triggers for libc-bin (2.27-3ubuntu1.2) ...\n",
            "/sbin/ldconfig.real: /usr/local/lib/python3.7/dist-packages/ideep4py/lib/libmkldnn.so.0 is not a symbolic link\n",
            "\n",
            "Processing triggers for man-db (2.8.3-2ubuntu0.1) ...\n"
          ],
          "name": "stdout"
        }
      ]
    },
    {
      "cell_type": "code",
      "metadata": {
        "id": "9reUnE1EDnX9"
      },
      "source": [
        "import numpy as np\n",
        "import pandas as pd\n",
        "from sklearn import datasets\n",
        "import matplotlib.pyplot as plt\n",
        "import random\n",
        "import time\n",
        "import numpy as np\n",
        "from pyomo.environ import *\n",
        "from pyomo.opt import SolverFactory"
      ],
      "execution_count": null,
      "outputs": []
    },
    {
      "cell_type": "markdown",
      "metadata": {
        "id": "nKhfEtuq0qf7"
      },
      "source": [
        "### LP with GLPK solver"
      ]
    },
    {
      "cell_type": "code",
      "metadata": {
        "id": "HxDYRFAiF7ks"
      },
      "source": [
        "def glpk_opt(A):  \n",
        "  model = ConcreteModel()\n",
        "  model.Agents = range(len(A))\n",
        "  model.Objects = range(len(A.T))\n",
        "  model.x = Var( model.Agents, model.Objects,bounds=(0.0,1.0) )\n",
        "  model.y = Var( model.Agents, within=Binary )\n",
        "\n",
        "  #Objective\n",
        "  model.obj = Objective(expr = sum(A[n,m]*model.x[n,m] for n in model.Agents for m in model.Objects),sense=maximize )\n",
        "\n",
        "  ###Constraints\n",
        "  model.single_x = ConstraintList()\n",
        "  for m in model.Objects:\n",
        "    model.single_x.add(sum( model.x[n,m] for n in model.Agents ) == 1.0 )\n",
        "    \n",
        "  for m in model.Agents:\n",
        "    model.single_x.add(sum( model.x[m,n] for n in model.Objects ) <= 1.0 )\n",
        "\n",
        "  # create a solver\n",
        "  solver = SolverFactory('glpk', executable='/usr/bin/glpsol')\n",
        "\n",
        "  # solve\n",
        "  solver.solve(model)\n",
        "  a=dict()\n",
        "  for n in model.Agents:\n",
        "    a[n]= []\n",
        "    for m in model.Objects:\n",
        "      a[n].append(value(model.x[n,m])*A[n,m])\n",
        "\n",
        "  assign=dict()\n",
        "  for n in model.Agents:\n",
        "    assign[n]= []\n",
        "    for m in model.Objects:\n",
        "      assign[n].append(value(model.x[n,m]))\n",
        "  total=value(model.obj)       \n",
        "  return a,assign,total    "
      ],
      "execution_count": null,
      "outputs": []
    },
    {
      "cell_type": "markdown",
      "metadata": {
        "id": "W-Jv-z0C1-eo"
      },
      "source": [
        "###Random Assignment Generation:"
      ]
    },
    {
      "cell_type": "code",
      "metadata": {
        "id": "Dd-qYNhu1-FW"
      },
      "source": [
        "def dataGeneration(n,M):\n",
        "    return np.random.randint(0, M, size=(n, n))"
      ],
      "execution_count": null,
      "outputs": []
    },
    {
      "cell_type": "markdown",
      "metadata": {
        "id": "TB8RTHt_4IaG"
      },
      "source": [
        "#Computing time for M from 10 to 100000000"
      ]
    },
    {
      "cell_type": "code",
      "metadata": {
        "id": "oIeWMAL4GVXF",
        "colab": {
          "base_uri": "https://localhost:8080/"
        },
        "outputId": "d6e47b1d-8a25-4595-d41a-ea54d15450ca"
      },
      "source": [
        "t7=0\n",
        "i7=0\n",
        "avg_time=[]\n",
        "while i7<100:\n",
        "  mat = dataGeneration(256,10)\n",
        "  n_mat=np.array(mat)\n",
        "  start = time.time()\n",
        "  a= glpk_opt(n_mat)\n",
        "  end = time.time() - start\n",
        "  t7=t7+end\n",
        "  i7=i7+1\n",
        "avg_time.append(t7/100)\n",
        "print(\"Avergae time for M=10\",t7/100)"
      ],
      "execution_count": null,
      "outputs": [
        {
          "output_type": "stream",
          "text": [
            "Avergae time for M=10 8.415244960784912\n"
          ],
          "name": "stdout"
        }
      ]
    },
    {
      "cell_type": "code",
      "metadata": {
        "id": "X0Y8Pau5SqQ3"
      },
      "source": [
        "# For m=100\n",
        "# t7=0\n",
        "# i7=0\n",
        "# while i7<100:\n",
        "#   mat = dataGeneration(256,100)\n",
        "#   n_mat=np.array(mat)\n",
        "#   start = time.time()\n",
        "#   a= glpk_opt(n_mat)\n",
        "#   end = time.time() - start\n",
        "#   t7=t7+end\n",
        "#   i7=i7+1\n",
        "# avg_time.append(t7/100)\n",
        "# print(\"Avergae time for M=100\",t7/100)\n",
        "\n",
        "\n",
        "# For m=1000\n",
        "# t7=0\n",
        "# i7=0\n",
        "# while i7<100:\n",
        "#   mat = dataGeneration(256,1000)\n",
        "#   n_mat=np.array(mat)\n",
        "#   start = time.time()\n",
        "#   a= glpk_opt(n_mat)\n",
        "#   end = time.time() - start\n",
        "#   t7=t7+end\n",
        "#   i7=i7+1\n",
        "# avg_time.append(t7/100)\n",
        "# print(\"Avergae time for M=1000\",t7/100)\n",
        "\n",
        "\n",
        "# For m=10000\n",
        "# t7=0\n",
        "# i7=0\n",
        "# while i7<100:\n",
        "#   mat = dataGeneration(256,10000)\n",
        "#   n_mat=np.array(mat)\n",
        "#   start = time.time()\n",
        "#   a= glpk_opt(n_mat)\n",
        "#   end = time.time() - start\n",
        "#   t7=t7+end\n",
        "#   i7=i7+1\n",
        "# avg_time.append(t7/100)\n",
        "# print(\"Avergae time for M=10000\",t7/100)\n",
        "\n",
        "\n",
        "# For m=100000\n",
        "# t7=0\n",
        "# i7=0\n",
        "# while i7<100:\n",
        "#   mat = dataGeneration(256,100000)\n",
        "#   n_mat=np.array(mat)\n",
        "#   start = time.time()\n",
        "#   a= glpk_opt(n_mat)\n",
        "#   end = time.time() - start\n",
        "#   t7=t7+end\n",
        "#   i7=i7+1\n",
        "# avg_time.append(t7/100)\n",
        "# print(\"Avergae time for M=100000\",t7/100)\n",
        "\n",
        "\n",
        "# For m=1000000\n",
        "# t7=0\n",
        "# i7=0\n",
        "# while i7<100:\n",
        "#   mat = dataGeneration(256,1000000)\n",
        "#   n_mat=np.array(mat)\n",
        "#   start = time.time()\n",
        "#   a= glpk_opt(n_mat)\n",
        "#   end = time.time() - start\n",
        "#   t7=t7+end\n",
        "#   i7=i7+1\n",
        "# avg_time.append(t7/100)\n",
        "# print(\"Avergae time for M=1000000\",t7/100)\n",
        "\n",
        "# For m=10000000\n",
        "# t7=0\n",
        "# i7=0\n",
        "# while i7<100:\n",
        "#   mat = dataGeneration(256,10000000)\n",
        "#   n_mat=np.array(mat)\n",
        "#   start = time.time()\n",
        "#   a= glpk_opt(n_mat)\n",
        "#   end = time.time() - start\n",
        "#   t7=t7+end\n",
        "#   i7=i7+1\n",
        "# avg_time.append(t7/100)\n",
        "# print(\"Avergae time for M=10000000\",t7/100)\n"
      ],
      "execution_count": null,
      "outputs": []
    }
  ]
}